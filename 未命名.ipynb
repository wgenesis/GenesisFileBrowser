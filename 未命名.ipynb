{
 "cells": [
  {
   "cell_type": "code",
   "execution_count": 1,
   "id": "91e6d99b-326d-4fd9-8c79-413aa9058287",
   "metadata": {},
   "outputs": [],
   "source": [
    "import django\n",
    "import os\n",
    "os.environ.setdefault(\"DJANGO_SETTINGS_MODULE\", \"GenesisFileBrowser.settings\")\n",
    "django.setup()\n",
    "os.environ[\"DJANGO_ALLOW_ASYNC_UNSAFE\"] = \"true\""
   ]
  },
  {
   "cell_type": "code",
   "execution_count": 2,
   "id": "0612af0d-8661-4a14-8806-77f8d5114034",
   "metadata": {},
   "outputs": [],
   "source": [
    "from user.models import Group,Member,InvitationCode"
   ]
  },
  {
   "cell_type": "code",
   "execution_count": 3,
   "id": "8a9c5e09-4eb5-4216-976b-f5ccf99696a5",
   "metadata": {},
   "outputs": [],
   "source": [
    "manager=Member(username='wgenesis',real_name='魏浩源',student_id=2111904257,permission=0,password='weihaoziyue')"
   ]
  },
  {
   "cell_type": "code",
   "execution_count": 4,
   "id": "0b54aaab-26bc-487a-aed3-323ff8b59690",
   "metadata": {},
   "outputs": [],
   "source": [
    "manager.save()"
   ]
  },
  {
   "cell_type": "code",
   "execution_count": 16,
   "id": "200ac178-874b-4b1e-a2ea-34288b51deb3",
   "metadata": {},
   "outputs": [],
   "source": [
    "m=Member.objects.get(student_id=2111904257)\n",
    "invitation=InvitationCode(code=\"ABCDE\",permission=1,owner=m)"
   ]
  },
  {
   "cell_type": "code",
   "execution_count": 17,
   "id": "120cb792-976b-4f91-a8c1-5d59edd3b73d",
   "metadata": {},
   "outputs": [],
   "source": [
    "invitation.save()"
   ]
  },
  {
   "cell_type": "code",
   "execution_count": null,
   "id": "9ee45f2f-6820-4399-8d00-ac722dd23006",
   "metadata": {},
   "outputs": [],
   "source": []
  }
 ],
 "metadata": {
  "kernelspec": {
   "display_name": "django",
   "language": "python",
   "name": "django"
  },
  "language_info": {
   "codemirror_mode": {
    "name": "ipython",
    "version": 3
   },
   "file_extension": ".py",
   "mimetype": "text/x-python",
   "name": "python",
   "nbconvert_exporter": "python",
   "pygments_lexer": "ipython3",
   "version": "3.9.5"
  }
 },
 "nbformat": 4,
 "nbformat_minor": 5
}
